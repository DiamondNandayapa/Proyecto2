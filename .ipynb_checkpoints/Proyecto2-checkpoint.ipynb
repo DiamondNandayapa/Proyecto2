{
 "cells": [
  {
   "cell_type": "markdown",
   "metadata": {},
   "source": [
    "<img style=\"float: center\" src=\"https://arrupesj.files.wordpress.com/2015/06/4.jpg\" width=\"350px\" height=\"125px\" />\n",
    "\n",
    "\n",
    "# $$Proyecto$$\n",
    "### $$Probabilidad de crecimiento de nanoestructuras con determinadas condiciones$$\n",
    "#### $$Profesor: Carlos Arellano Muro$$\n",
    "#### $$Equipo: $$\n",
    "#### $$Diamante del Cielo Gutierrez Nandayapa nt709910$$\n",
    "#### $$Isaura Rodriguez Navarro nt713994$$\n",
    "##### $$Fecha: 12 de noviembre de 2020$$"
   ]
  },
  {
   "cell_type": "markdown",
   "metadata": {},
   "source": [
    "### 2.1 Título del trabajo.\n",
    "### 2.2 Objetivos.\n",
    "### 2.3 Modelo que representa el problema.\n",
    "### 2.4 Solución del problema.\n",
    "### 2.5 Análisis de resultados.\n",
    "### 2.6 Conclusiones.\n",
    "### 2.7 Referencias."
   ]
  },
  {
   "cell_type": "markdown",
   "metadata": {},
   "source": [
    "### Objetivos\n",
    "> #### 1.1 Objetivos generales.\n",
    "\n",
    "> #### 1.1.1 Objetivos específicos.#"
   ]
  },
  {
   "cell_type": "markdown",
   "metadata": {},
   "source": [
    "### *Problema planteado*"
   ]
  },
  {
   "cell_type": "markdown",
   "metadata": {},
   "source": [
    "La nanotecnología a venido a revolucionar la tecnología y la ciencia, con esto se han ido conociendo nanoestructuras que ayudan a la formación de nanomateriales y aplicarlos a la industria.\n",
    "\n",
    "De acuerdo a la base de datos se encuentran que las morfologías con mayores implicaciones en nanomateriales son las siguiente:\n",
    "\n",
    "* Nanotubos       (Nt)\n",
    "* Fullerenos      (Fl)\n",
    "* Grafenos        (Gf)\n",
    "* Nanopartículas  (Np)\n",
    "* Quantum Dots    (Qd)\n",
    "* Nanofibras      (Nf)\n",
    "* Nanoalambres    (Na)\n",
    "\n",
    "Se conocen que de a lo largo del 2020 se han desarrollado esta cantidad de nanomateriales teniendo como base cada una de las nanoestructuras siendo eso:  \n",
    "\n",
    "Nanoestructura|Nanomateriales|\n",
    ":----|----|\n",
    "Nanotubos|  663|\n",
    "Fullerenos|  137|\n",
    "Grafenos| 378|\n",
    "Nanopartículas|2942|\n",
    "Quantum Dots|271|\n",
    "Nanofibras|47|\n",
    "Nanoalambres|116|\n",
    "Total|4554|\n",
    "\n",
    "Para la fabricación de las nanoestructuras de realizan mas conmunmente dos métodos de síntesis por reducción química y por poliol.\n",
    "\n",
    "Queremos conocer el comportamiento de la nucleación de las nanoestructuras y conocer que forma es la que obtendrán de acuerdo al tiempo de la síntesis, debido a que esta maneja se crecimiento junto con parámetros termodinámicos. Bajo esta síntesis se pueden obtener nanoparticulas y nanofibras.\n",
    "\n",
    "El otro método de síntesis que se utiliza es por poliol, regularmente las morfologías que se presentan por este método son nanoalambres, nanopartículas y nanofibras.\n",
    "\n",
    "a) Lo que se busca es el comportamiento de la curva de acuerdo a la nanoestructura que se pueda obtener bajo cada síntesis.\n",
    "\n",
    "b) Conocer la probabilidad de la morfología de acuerdo al tiempo de reacción siendo presentadas en condiciones ideales 1000 síntesis a la vez.\n",
    "\n",
    "c) Comparar lo obtenido con la generación de nanoestructuras en el año 2020 de las estudiadas."
   ]
  },
  {
   "cell_type": "code",
   "execution_count": 7,
   "metadata": {},
   "outputs": [],
   "source": [
    "import random\n",
    "import numpy as np\n",
    "import sympy as sp\n",
    "import pandas as pd\n",
    "import matplotlib.pyplot as plt"
   ]
  },
  {
   "cell_type": "code",
   "execution_count": 8,
   "metadata": {},
   "outputs": [],
   "source": [
    "def tiempo():\n",
    "    return random.randint(15,60)"
   ]
  },
  {
   "cell_type": "code",
   "execution_count": 9,
   "metadata": {},
   "outputs": [],
   "source": [
    "def sintesis1():\n",
    "    T= tiempo()\n",
    "    if((T<=15)or(T>=30)):\n",
    "        return T, 'Nanopartículas'\n",
    "    else:\n",
    "        return T, 'Nanofibras'"
   ]
  },
  {
   "cell_type": "code",
   "execution_count": 10,
   "metadata": {
    "scrolled": true
   },
   "outputs": [
    {
     "data": {
      "text/plain": [
       "(37, 'Nanopartículas')"
      ]
     },
     "execution_count": 10,
     "metadata": {},
     "output_type": "execute_result"
    }
   ],
   "source": [
    "sintesis1()"
   ]
  },
  {
   "cell_type": "code",
   "execution_count": 11,
   "metadata": {},
   "outputs": [
    {
     "data": {
      "text/plain": [
       "[<matplotlib.lines.Line2D at 0xcdac58>]"
      ]
     },
     "execution_count": 11,
     "metadata": {},
     "output_type": "execute_result"
    },
    {
     "data": {
      "image/png": "[encoded data removed]",
      "text/plain": [
       "<Figure size 432x288 with 1 Axes>"
      ]
     },
     "metadata": {
      "needs_background": "light"
     },
     "output_type": "display_data"
    }
   ],
   "source": [
    "x= sintesis1()\n",
    "plt.plot(x)"
   ]
  },
  {
   "cell_type": "code",
   "execution_count": 19,
   "metadata": {},
   "outputs": [],
   "source": [
    "def sintesis2():\n",
    "    T= tiempo()\n",
    "    if T<=15:\n",
    "        return T, 'Nanoalambres'\n",
    "    elif 16<=T<=30:\n",
    "        return T, 'Nanopartículas'\n",
    "    elif T==60:\n",
    "        return T, 'Nanofibras'   #if((T<=15)or(16<=T<=30)or(T==60)):\n",
    "      #  return T, 'Nanoalambres'\n",
    "    #else:\n",
    "     #   return T, 'Nanopartículas'\n",
    "    #else:\n",
    "     #   return T, 'Nanofibras' # no me acuerdo como hacer las 3 salidas"
   ]
  },
  {
   "cell_type": "code",
   "execution_count": 13,
   "metadata": {},
   "outputs": [],
   "source": [
    "def sintesis(T,S,N):\n",
    "    x=[T]\n",
    "    for i in range (N):\n",
    "        if(sintesis1()[1]=='Casino'):\n",
    "            x.append(x[-1]-S)\n",
    "        else:\n",
    "            x.append(x[-1]+S)\n",
    "    return x"
   ]
  },
  {
   "cell_type": "code",
   "execution_count": 14,
   "metadata": {},
   "outputs": [
    {
     "data": {
      "text/plain": [
       "[<matplotlib.lines.Line2D at 0xd18028>]"
      ]
     },
     "execution_count": 14,
     "metadata": {},
     "output_type": "execute_result"
    },
    {
     "data": {
      "image/png": "[encoded data removed]",
      "text/plain": [
       "<Figure size 432x288 with 1 Axes>"
      ]
     },
     "metadata": {
      "needs_background": "light"
     },
     "output_type": "display_data"
    }
   ],
   "source": [
    "x=sintesis(100,1000,1000)\n",
    "plt.plot(x)"
   ]
  },
  {
   "cell_type": "code",
   "execution_count": 15,
   "metadata": {},
   "outputs": [
    {
     "data": {
      "image/png": "[encoded data removed]",
      "text/plain": [
       "<Figure size 432x288 with 1 Axes>"
      ]
     },
     "metadata": {
      "needs_background": "light"
     },
     "output_type": "display_data"
    }
   ],
   "source": [
    "#Simulación Montecarlo\n",
    "T=100\n",
    "S=1000\n",
    "N=1000\n",
    "nsintesis=1000\n",
    "\n",
    "for i in range(nsintesis):\n",
    "    plt.plot(sintesis(T,S,N))\n",
    "plt.grid()"
   ]
  },
  {
   "cell_type": "code",
   "execution_count": 16,
   "metadata": {},
   "outputs": [],
   "source": [
    "D=np.array([663, 137, 378, 2942, 271, 47, 116])"
   ]
  },
  {
   "cell_type": "code",
   "execution_count": 17,
   "metadata": {},
   "outputs": [],
   "source": [
    "def getCloses(names,start,end):\n",
    "    datos = D(names,'',start,end)\n",
    "    return datos[''] #Hay código diferente para esto, creo que en el módulo pasado usamos algo similar"
   ]
  },
  {
   "cell_type": "code",
   "execution_count": 18,
   "metadata": {},
   "outputs": [
    {
     "ename": "TypeError",
     "evalue": "'numpy.ndarray' object is not callable",
     "output_type": "error",
     "traceback": [
      "\u001b[1;31m---------------------------------------------------------------------------\u001b[0m",
      "\u001b[1;31mTypeError\u001b[0m                                 Traceback (most recent call last)",
      "\u001b[1;32m<ipython-input-18-32726349a88a>\u001b[0m in \u001b[0;36m<module>\u001b[1;34m\u001b[0m\n\u001b[0;32m      2\u001b[0m \u001b[0mstart\u001b[0m\u001b[1;33m=\u001b[0m\u001b[1;34m'2020-01-01'\u001b[0m\u001b[1;33m\u001b[0m\u001b[1;33m\u001b[0m\u001b[0m\n\u001b[0;32m      3\u001b[0m \u001b[0mend\u001b[0m\u001b[1;33m=\u001b[0m\u001b[1;34m'2020-12-31'\u001b[0m\u001b[1;33m\u001b[0m\u001b[1;33m\u001b[0m\u001b[0m\n\u001b[1;32m----> 4\u001b[1;33m \u001b[0mdatos\u001b[0m\u001b[1;33m=\u001b[0m\u001b[0mgetCloses\u001b[0m\u001b[1;33m(\u001b[0m\u001b[0mnames\u001b[0m\u001b[1;33m,\u001b[0m\u001b[0mstart\u001b[0m\u001b[1;33m,\u001b[0m\u001b[0mend\u001b[0m\u001b[1;33m)\u001b[0m\u001b[1;33m\u001b[0m\u001b[1;33m\u001b[0m\u001b[0m\n\u001b[0m\u001b[0;32m      5\u001b[0m \u001b[0mdatos\u001b[0m\u001b[1;33m.\u001b[0m\u001b[0mhead\u001b[0m\u001b[1;33m(\u001b[0m\u001b[1;33m)\u001b[0m\u001b[1;33m\u001b[0m\u001b[1;33m\u001b[0m\u001b[0m\n",
      "\u001b[1;32m<ipython-input-17-15c6d0cd2eb2>\u001b[0m in \u001b[0;36mgetCloses\u001b[1;34m(names, start, end)\u001b[0m\n\u001b[0;32m      1\u001b[0m \u001b[1;32mdef\u001b[0m \u001b[0mgetCloses\u001b[0m\u001b[1;33m(\u001b[0m\u001b[0mnames\u001b[0m\u001b[1;33m,\u001b[0m\u001b[0mstart\u001b[0m\u001b[1;33m,\u001b[0m\u001b[0mend\u001b[0m\u001b[1;33m)\u001b[0m\u001b[1;33m:\u001b[0m\u001b[1;33m\u001b[0m\u001b[1;33m\u001b[0m\u001b[0m\n\u001b[1;32m----> 2\u001b[1;33m     \u001b[0mdatos\u001b[0m \u001b[1;33m=\u001b[0m \u001b[0mD\u001b[0m\u001b[1;33m(\u001b[0m\u001b[0mnames\u001b[0m\u001b[1;33m,\u001b[0m\u001b[1;34m''\u001b[0m\u001b[1;33m,\u001b[0m\u001b[0mstart\u001b[0m\u001b[1;33m,\u001b[0m\u001b[0mend\u001b[0m\u001b[1;33m)\u001b[0m\u001b[1;33m\u001b[0m\u001b[1;33m\u001b[0m\u001b[0m\n\u001b[0m\u001b[0;32m      3\u001b[0m     \u001b[1;32mreturn\u001b[0m \u001b[0mdatos\u001b[0m\u001b[1;33m[\u001b[0m\u001b[1;34m''\u001b[0m\u001b[1;33m]\u001b[0m \u001b[1;31m#Hay código diferente para esto, creo que en el módulo pasado usamos algo similar\u001b[0m\u001b[1;33m\u001b[0m\u001b[1;33m\u001b[0m\u001b[0m\n",
      "\u001b[1;31mTypeError\u001b[0m: 'numpy.ndarray' object is not callable"
     ]
    }
   ],
   "source": [
    "names=['Nt', 'Fl','Gf','Np', 'Qd','Nf','Na']\n",
    "start='2020-01-01'\n",
    "end='2020-12-31'\n",
    "datos=getCloses(names,start,end)\n",
    "datos.head() "
   ]
  },
  {
   "cell_type": "code",
   "execution_count": null,
   "metadata": {},
   "outputs": [],
   "source": [
    "N=7 # Se simulan 365 días para 2 escenarios\n",
    "R['Qd'].mean()+R['Qd'].std()*np.random.randn(365,N)"
   ]
  },
  {
   "cell_type": "code",
   "execution_count": null,
   "metadata": {},
   "outputs": [],
   "source": []
  }
 ],
 "metadata": {
  "kernelspec": {
   "display_name": "Python 3",
   "language": "python",
   "name": "python3"
  },
  "language_info": {
   "codemirror_mode": {
    "name": "ipython",
    "version": 3
   },
   "file_extension": ".py",
   "mimetype": "text/x-python",
   "name": "python",
   "nbconvert_exporter": "python",
   "pygments_lexer": "ipython3",
   "version": "3.8.3"
  }
 },
 "nbformat": 4,
 "nbformat_minor": 4
}
