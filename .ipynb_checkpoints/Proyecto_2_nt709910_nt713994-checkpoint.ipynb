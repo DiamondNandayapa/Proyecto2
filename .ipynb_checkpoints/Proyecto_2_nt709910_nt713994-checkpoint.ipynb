{
 "cells": [
  {
   "cell_type": "markdown",
   "metadata": {},
   "source": [
    "<img style=\"float: center\" src=\"https://arrupesj.files.wordpress.com/2015/06/4.jpg\" width=\"350px\" height=\"125px\" />\n",
    "\n",
    "\n",
    "# $$Proyecto$$\n",
    "### $$Probabilidad de crecimiento de nanoestructuras con determinadas condiciones$$\n",
    "#### $$Profesor: Carlos Arellano Muro$$\n",
    "#### $$Equipo: $$\n",
    "#### $$Diamante del Cielo Gutierrez Nandayapa nt709910$$\n",
    "#### $$Isaura Rodriguez Navarro nt713994$$\n",
    "##### $$Fecha: 12 de noviembre de 2020$$"
   ]
  },
  {
   "cell_type": "markdown",
   "metadata": {},
   "source": [
    "### Objetivos\n",
    "> #### 1.1 Objetivos generales.\n",
    "\n",
    "> #### 1.1.1 Objetivos específicos.#"
   ]
  },
  {
   "cell_type": "markdown",
   "metadata": {},
   "source": [
    "### *Problema planteado*"
   ]
  },
  {
   "cell_type": "markdown",
   "metadata": {},
   "source": [
    "La nanotecnología a venido a revolucionar la tecnología y la ciencia, con esto se han ido conociendo nanoestructuras que ayudan a la formación de nanomateriales y aplicarlos a la industria.\n",
    "\n",
    "De acuerdo a la base de datos se encuentran que las morfologías con mayores implicaciones en nanomateriales son las siguiente:\n",
    "\n",
    "* Nanotubos       (Nt)\n",
    "* Fullerenos      (Fl)\n",
    "* Grafenos        (Gf)\n",
    "* Nanopartículas  (Np)\n",
    "* Quantum Dots    (Qd)\n",
    "* Nanofibras      (Nf)\n",
    "* Nanoalambres    (Na)\n",
    "\n",
    "Se conocen que a lo largo del 2020 se han desarrollado esta cantidad de nanomateriales teniendo como base cada una de las nanoestructuras siendo eso: 663, 137, 378, 2942, 271, 47, 116 \n",
    "\n",
    "Nanoestructura|Nanomateriales|\n",
    ":----|----|\n",
    "Nanotubos|  663|\n",
    "Fullerenos|  137|\n",
    "Grafenos| 378|\n",
    "Nanopartículas|2942|\n",
    "Quantum Dots|271|\n",
    "Nanofibras|47|\n",
    "Nanoalambres|116|\n",
    "Total|4554|\n",
    "\n",
    "a) Lo que se busca es el comportamiento de la curva de acuerdo a la nanoestructura que se pueda obtener bajo cierto rango de nanometros (nm).\n",
    "\n",
    "b) Simular 10000 nanomateriales para el siguiente año y calcular la probabilidad de que las nanoestructuras sean Quantum Dots. "
   ]
  },
  {
   "cell_type": "markdown",
   "metadata": {},
   "source": [
    "### Interpretación de resultados 1"
   ]
  },
  {
   "cell_type": "code",
   "execution_count": null,
   "metadata": {},
   "outputs": [],
   "source": [
    "import random\n",
    "import numpy as np\n",
    "import sympy as sp\n",
    "import pandas as pd\n",
    "import matplotlib.pyplot as plt"
   ]
  },
  {
   "cell_type": "code",
   "execution_count": null,
   "metadata": {},
   "outputs": [],
   "source": [
    "def tiempo():\n",
    "    return random.randint(15,60)"
   ]
  },
  {
   "cell_type": "code",
   "execution_count": null,
   "metadata": {},
   "outputs": [],
   "source": [
    "def sintesis1():\n",
    "    T= tiempo()\n",
    "    if((T<=15)or(T>=30)):\n",
    "        return T, 'Nanopartículas'\n",
    "    else:\n",
    "        return T, 'Nanofibras'"
   ]
  },
  {
   "cell_type": "code",
   "execution_count": null,
   "metadata": {},
   "outputs": [],
   "source": [
    "sintesis1()"
   ]
  },
  {
   "cell_type": "code",
   "execution_count": null,
   "metadata": {},
   "outputs": [],
   "source": [
    "x= sintesis1()\n",
    "plt.plot(x)"
   ]
  },
  {
   "cell_type": "code",
   "execution_count": null,
   "metadata": {},
   "outputs": [],
   "source": [
    "def sintesis2():\n",
    "    T= tiempo()\n",
    "    #if((T<=15)or(16<=T<=30)or(T==60)):\n",
    "     #   return T, 'Nanoalambres'\n",
    "    #else:\n",
    "    #    return T, 'Nanopartículas'\n",
    "    #else:\n",
    "     #   return T, 'Nanofibras' # no me acuerdo como hacer las 3 salidas\n",
    "    if T<=15:\n",
    "        return T, 'Nanoalambres'\n",
    "    elif 16<=T<=30:\n",
    "        return T, 'Nanopartículas'\n",
    "    elif T==60:\n",
    "        return T, 'Nanofibras'\n",
    "sintesis2()[1]"
   ]
  },
  {
   "cell_type": "code",
   "execution_count": null,
   "metadata": {},
   "outputs": [],
   "source": [
    "sintesis2()[1]"
   ]
  },
  {
   "cell_type": "code",
   "execution_count": null,
   "metadata": {},
   "outputs": [],
   "source": [
    "def sintesis(T,S,N):\n",
    "    x=[T]\n",
    "    for i in range (N):\n",
    "        if(sintesis1()[1]=='Casino'):\n",
    "            x.append(x[-1]-S)\n",
    "        else:\n",
    "            x.append(x[-1]+S)\n",
    "    return x"
   ]
  },
  {
   "cell_type": "code",
   "execution_count": null,
   "metadata": {},
   "outputs": [],
   "source": [
    "x=sintesis(100,1000,1000)\n",
    "plt.plot(x)"
   ]
  },
  {
   "cell_type": "code",
   "execution_count": null,
   "metadata": {},
   "outputs": [],
   "source": [
    "#Simulación Montecarlo\n",
    "T1=100\n",
    "S=1000\n",
    "N=1000\n",
    "nsintesis=1000\n",
    "\n",
    "for i in range(nsintesis):\n",
    "    plt.plot(sintesis(T,S,N))\n",
    "plt.grid()"
   ]
  },
  {
   "cell_type": "code",
   "execution_count": null,
   "metadata": {},
   "outputs": [],
   "source": [
    "def SintesisN2(T1,S,N):\n",
    "    T=T1\n",
    "    for i in range(N):\n",
    "        if(sintesis2()[1]=='Nanopartículas'):\n",
    "            T -= S \n",
    "        else:\n",
    "            T += S  \n",
    "    return T"
   ]
  },
  {
   "cell_type": "code",
   "execution_count": null,
   "metadata": {},
   "outputs": [],
   "source": [
    "T=10000\n",
    "S=2000\n",
    "N=1000\n",
    "SintesisN2(T,S,N)"
   ]
  },
  {
   "cell_type": "code",
   "execution_count": null,
   "metadata": {},
   "outputs": [],
   "source": [
    "nsintesis=10**4\n",
    "x=[]\n",
    "for i in range(nsintesis):\n",
    "    x.append(SintesisN2(T,S,N))\n",
    "np.mean(x)"
   ]
  },
  {
   "cell_type": "code",
   "execution_count": null,
   "metadata": {},
   "outputs": [],
   "source": []
  },
  {
   "cell_type": "code",
   "execution_count": null,
   "metadata": {},
   "outputs": [],
   "source": []
  },
  {
   "cell_type": "markdown",
   "metadata": {},
   "source": [
    "### Interpretación de resultados 2"
   ]
  },
  {
   "cell_type": "code",
   "execution_count": null,
   "metadata": {},
   "outputs": [],
   "source": []
  }
 ],
 "metadata": {
  "kernelspec": {
   "display_name": "Python 3",
   "language": "python",
   "name": "python3"
  },
  "language_info": {
   "codemirror_mode": {
    "name": "ipython",
    "version": 3
   },
   "file_extension": ".py",
   "mimetype": "text/x-python",
   "name": "python",
   "nbconvert_exporter": "python",
   "pygments_lexer": "ipython3",
   "version": "3.8.3"
  }
 },
 "nbformat": 4,
 "nbformat_minor": 4
}
