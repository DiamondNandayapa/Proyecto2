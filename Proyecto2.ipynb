{
 "cells": [
  {
   "cell_type": "markdown",
   "metadata": {},
   "source": [
    "### 2.1 Título del trabajo.\n",
    "### 2.2 Objetivos.\n",
    "### 2.3 Modelo que representa el problema.\n",
    "### 2.4 Solución del problema de optimización.\n",
    "### 2.5 Visualización de la solución dle problema.\n",
    "### 2.6 Conclusiones.\n",
    "### 2.7 Referencias."
   ]
  }
 ],
 "metadata": {
  "kernelspec": {
   "display_name": "Python 3",
   "language": "python",
   "name": "python3"
  },
  "language_info": {
   "codemirror_mode": {
    "name": "ipython",
    "version": 3
   },
   "file_extension": ".py",
   "mimetype": "text/x-python",
   "name": "python",
   "nbconvert_exporter": "python",
   "pygments_lexer": "ipython3",
   "version": "3.8.3"
  }
 },
 "nbformat": 4,
 "nbformat_minor": 4
}
